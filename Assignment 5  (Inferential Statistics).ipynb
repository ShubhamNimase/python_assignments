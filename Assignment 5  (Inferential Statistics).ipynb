{
 "cells": [
  {
   "cell_type": "markdown",
   "id": "ef76e439",
   "metadata": {},
   "source": [
    "# Inferential Statistics         \n",
    "                                                                           by-Nimase Shubham"
   ]
  },
  {
   "cell_type": "code",
   "execution_count": 2,
   "id": "7d37166d",
   "metadata": {},
   "outputs": [],
   "source": [
    "import pandas as pd\n",
    "import numpy as np\n",
    "import scipy\n",
    "import scipy.stats as stats\n",
    "from statsmodels.stats import weightstats"
   ]
  },
  {
   "cell_type": "code",
   "execution_count": 3,
   "id": "4ba429ca",
   "metadata": {},
   "outputs": [],
   "source": [
    "df=pd.read_csv(\"bank.csv\")"
   ]
  },
  {
   "cell_type": "code",
   "execution_count": 4,
   "id": "1a9c9e0d",
   "metadata": {
    "scrolled": false
   },
   "outputs": [
    {
     "data": {
      "text/html": [
       "<div>\n",
       "<style scoped>\n",
       "    .dataframe tbody tr th:only-of-type {\n",
       "        vertical-align: middle;\n",
       "    }\n",
       "\n",
       "    .dataframe tbody tr th {\n",
       "        vertical-align: top;\n",
       "    }\n",
       "\n",
       "    .dataframe thead th {\n",
       "        text-align: right;\n",
       "    }\n",
       "</style>\n",
       "<table border=\"1\" class=\"dataframe\">\n",
       "  <thead>\n",
       "    <tr style=\"text-align: right;\">\n",
       "      <th></th>\n",
       "      <th>age</th>\n",
       "      <th>job</th>\n",
       "      <th>marital</th>\n",
       "      <th>education</th>\n",
       "      <th>default</th>\n",
       "      <th>balance</th>\n",
       "      <th>housing</th>\n",
       "      <th>loan</th>\n",
       "      <th>contact</th>\n",
       "      <th>day</th>\n",
       "      <th>month</th>\n",
       "      <th>duration</th>\n",
       "      <th>campaign</th>\n",
       "      <th>pdays</th>\n",
       "      <th>previous</th>\n",
       "      <th>poutcome</th>\n",
       "      <th>y</th>\n",
       "    </tr>\n",
       "  </thead>\n",
       "  <tbody>\n",
       "    <tr>\n",
       "      <th>0</th>\n",
       "      <td>30</td>\n",
       "      <td>unemployed</td>\n",
       "      <td>married</td>\n",
       "      <td>primary</td>\n",
       "      <td>no</td>\n",
       "      <td>1787</td>\n",
       "      <td>no</td>\n",
       "      <td>no</td>\n",
       "      <td>cellular</td>\n",
       "      <td>19</td>\n",
       "      <td>oct</td>\n",
       "      <td>79</td>\n",
       "      <td>1</td>\n",
       "      <td>-1</td>\n",
       "      <td>0</td>\n",
       "      <td>unknown</td>\n",
       "      <td>no</td>\n",
       "    </tr>\n",
       "    <tr>\n",
       "      <th>1</th>\n",
       "      <td>33</td>\n",
       "      <td>services</td>\n",
       "      <td>married</td>\n",
       "      <td>secondary</td>\n",
       "      <td>no</td>\n",
       "      <td>4789</td>\n",
       "      <td>yes</td>\n",
       "      <td>yes</td>\n",
       "      <td>cellular</td>\n",
       "      <td>11</td>\n",
       "      <td>may</td>\n",
       "      <td>220</td>\n",
       "      <td>1</td>\n",
       "      <td>339</td>\n",
       "      <td>4</td>\n",
       "      <td>failure</td>\n",
       "      <td>no</td>\n",
       "    </tr>\n",
       "    <tr>\n",
       "      <th>2</th>\n",
       "      <td>35</td>\n",
       "      <td>management</td>\n",
       "      <td>single</td>\n",
       "      <td>tertiary</td>\n",
       "      <td>no</td>\n",
       "      <td>1350</td>\n",
       "      <td>yes</td>\n",
       "      <td>no</td>\n",
       "      <td>cellular</td>\n",
       "      <td>16</td>\n",
       "      <td>apr</td>\n",
       "      <td>185</td>\n",
       "      <td>1</td>\n",
       "      <td>330</td>\n",
       "      <td>1</td>\n",
       "      <td>failure</td>\n",
       "      <td>no</td>\n",
       "    </tr>\n",
       "    <tr>\n",
       "      <th>3</th>\n",
       "      <td>30</td>\n",
       "      <td>management</td>\n",
       "      <td>married</td>\n",
       "      <td>tertiary</td>\n",
       "      <td>no</td>\n",
       "      <td>1476</td>\n",
       "      <td>yes</td>\n",
       "      <td>yes</td>\n",
       "      <td>unknown</td>\n",
       "      <td>3</td>\n",
       "      <td>jun</td>\n",
       "      <td>199</td>\n",
       "      <td>4</td>\n",
       "      <td>-1</td>\n",
       "      <td>0</td>\n",
       "      <td>unknown</td>\n",
       "      <td>no</td>\n",
       "    </tr>\n",
       "    <tr>\n",
       "      <th>4</th>\n",
       "      <td>59</td>\n",
       "      <td>blue-collar</td>\n",
       "      <td>married</td>\n",
       "      <td>secondary</td>\n",
       "      <td>no</td>\n",
       "      <td>0</td>\n",
       "      <td>yes</td>\n",
       "      <td>no</td>\n",
       "      <td>unknown</td>\n",
       "      <td>5</td>\n",
       "      <td>may</td>\n",
       "      <td>226</td>\n",
       "      <td>1</td>\n",
       "      <td>-1</td>\n",
       "      <td>0</td>\n",
       "      <td>unknown</td>\n",
       "      <td>no</td>\n",
       "    </tr>\n",
       "  </tbody>\n",
       "</table>\n",
       "</div>"
      ],
      "text/plain": [
       "   age          job  marital  education default  balance housing loan  \\\n",
       "0   30   unemployed  married    primary      no     1787      no   no   \n",
       "1   33     services  married  secondary      no     4789     yes  yes   \n",
       "2   35   management   single   tertiary      no     1350     yes   no   \n",
       "3   30   management  married   tertiary      no     1476     yes  yes   \n",
       "4   59  blue-collar  married  secondary      no        0     yes   no   \n",
       "\n",
       "    contact  day month  duration  campaign  pdays  previous poutcome   y  \n",
       "0  cellular   19   oct        79         1     -1         0  unknown  no  \n",
       "1  cellular   11   may       220         1    339         4  failure  no  \n",
       "2  cellular   16   apr       185         1    330         1  failure  no  \n",
       "3   unknown    3   jun       199         4     -1         0  unknown  no  \n",
       "4   unknown    5   may       226         1     -1         0  unknown  no  "
      ]
     },
     "execution_count": 4,
     "metadata": {},
     "output_type": "execute_result"
    }
   ],
   "source": [
    "df.head()"
   ]
  },
  {
   "cell_type": "code",
   "execution_count": 5,
   "id": "8d426df3",
   "metadata": {},
   "outputs": [
    {
     "data": {
      "text/html": [
       "<div>\n",
       "<style scoped>\n",
       "    .dataframe tbody tr th:only-of-type {\n",
       "        vertical-align: middle;\n",
       "    }\n",
       "\n",
       "    .dataframe tbody tr th {\n",
       "        vertical-align: top;\n",
       "    }\n",
       "\n",
       "    .dataframe thead th {\n",
       "        text-align: right;\n",
       "    }\n",
       "</style>\n",
       "<table border=\"1\" class=\"dataframe\">\n",
       "  <thead>\n",
       "    <tr style=\"text-align: right;\">\n",
       "      <th></th>\n",
       "      <th>age</th>\n",
       "      <th>balance</th>\n",
       "      <th>day</th>\n",
       "      <th>duration</th>\n",
       "      <th>campaign</th>\n",
       "      <th>pdays</th>\n",
       "      <th>previous</th>\n",
       "    </tr>\n",
       "  </thead>\n",
       "  <tbody>\n",
       "    <tr>\n",
       "      <th>count</th>\n",
       "      <td>4521.000000</td>\n",
       "      <td>4521.000000</td>\n",
       "      <td>4521.000000</td>\n",
       "      <td>4521.000000</td>\n",
       "      <td>4521.000000</td>\n",
       "      <td>4521.000000</td>\n",
       "      <td>4521.000000</td>\n",
       "    </tr>\n",
       "    <tr>\n",
       "      <th>mean</th>\n",
       "      <td>41.170095</td>\n",
       "      <td>1422.657819</td>\n",
       "      <td>15.915284</td>\n",
       "      <td>263.961292</td>\n",
       "      <td>2.793630</td>\n",
       "      <td>39.766645</td>\n",
       "      <td>0.542579</td>\n",
       "    </tr>\n",
       "    <tr>\n",
       "      <th>std</th>\n",
       "      <td>10.576211</td>\n",
       "      <td>3009.638142</td>\n",
       "      <td>8.247667</td>\n",
       "      <td>259.856633</td>\n",
       "      <td>3.109807</td>\n",
       "      <td>100.121124</td>\n",
       "      <td>1.693562</td>\n",
       "    </tr>\n",
       "    <tr>\n",
       "      <th>min</th>\n",
       "      <td>19.000000</td>\n",
       "      <td>-3313.000000</td>\n",
       "      <td>1.000000</td>\n",
       "      <td>4.000000</td>\n",
       "      <td>1.000000</td>\n",
       "      <td>-1.000000</td>\n",
       "      <td>0.000000</td>\n",
       "    </tr>\n",
       "    <tr>\n",
       "      <th>25%</th>\n",
       "      <td>33.000000</td>\n",
       "      <td>69.000000</td>\n",
       "      <td>9.000000</td>\n",
       "      <td>104.000000</td>\n",
       "      <td>1.000000</td>\n",
       "      <td>-1.000000</td>\n",
       "      <td>0.000000</td>\n",
       "    </tr>\n",
       "    <tr>\n",
       "      <th>50%</th>\n",
       "      <td>39.000000</td>\n",
       "      <td>444.000000</td>\n",
       "      <td>16.000000</td>\n",
       "      <td>185.000000</td>\n",
       "      <td>2.000000</td>\n",
       "      <td>-1.000000</td>\n",
       "      <td>0.000000</td>\n",
       "    </tr>\n",
       "    <tr>\n",
       "      <th>75%</th>\n",
       "      <td>49.000000</td>\n",
       "      <td>1480.000000</td>\n",
       "      <td>21.000000</td>\n",
       "      <td>329.000000</td>\n",
       "      <td>3.000000</td>\n",
       "      <td>-1.000000</td>\n",
       "      <td>0.000000</td>\n",
       "    </tr>\n",
       "    <tr>\n",
       "      <th>max</th>\n",
       "      <td>87.000000</td>\n",
       "      <td>71188.000000</td>\n",
       "      <td>31.000000</td>\n",
       "      <td>3025.000000</td>\n",
       "      <td>50.000000</td>\n",
       "      <td>871.000000</td>\n",
       "      <td>25.000000</td>\n",
       "    </tr>\n",
       "  </tbody>\n",
       "</table>\n",
       "</div>"
      ],
      "text/plain": [
       "               age       balance          day     duration     campaign  \\\n",
       "count  4521.000000   4521.000000  4521.000000  4521.000000  4521.000000   \n",
       "mean     41.170095   1422.657819    15.915284   263.961292     2.793630   \n",
       "std      10.576211   3009.638142     8.247667   259.856633     3.109807   \n",
       "min      19.000000  -3313.000000     1.000000     4.000000     1.000000   \n",
       "25%      33.000000     69.000000     9.000000   104.000000     1.000000   \n",
       "50%      39.000000    444.000000    16.000000   185.000000     2.000000   \n",
       "75%      49.000000   1480.000000    21.000000   329.000000     3.000000   \n",
       "max      87.000000  71188.000000    31.000000  3025.000000    50.000000   \n",
       "\n",
       "             pdays     previous  \n",
       "count  4521.000000  4521.000000  \n",
       "mean     39.766645     0.542579  \n",
       "std     100.121124     1.693562  \n",
       "min      -1.000000     0.000000  \n",
       "25%      -1.000000     0.000000  \n",
       "50%      -1.000000     0.000000  \n",
       "75%      -1.000000     0.000000  \n",
       "max     871.000000    25.000000  "
      ]
     },
     "execution_count": 5,
     "metadata": {},
     "output_type": "execute_result"
    }
   ],
   "source": [
    "df.describe()"
   ]
  },
  {
   "cell_type": "code",
   "execution_count": 6,
   "id": "9cb8f1d5",
   "metadata": {},
   "outputs": [
    {
     "data": {
      "text/plain": [
       "(4521, 17)"
      ]
     },
     "execution_count": 6,
     "metadata": {},
     "output_type": "execute_result"
    }
   ],
   "source": [
    "df.shape"
   ]
  },
  {
   "cell_type": "code",
   "execution_count": 7,
   "id": "fb121c4a",
   "metadata": {},
   "outputs": [
    {
     "data": {
      "text/plain": [
       "array([2915, 2254, 4079, 1725, 3046, 2121, 1032,  740, 1982, 2459, 2672,\n",
       "       2718, 3792, 4300, 3185, 4071, 3152, 1068,  205, 3137, 3503, 2004,\n",
       "       3709, 2194, 1278,  377,   41, 1921, 4199, 3216,  974, 2053, 3898,\n",
       "       2000, 3182, 1715, 2587, 2847, 4420,  294])"
      ]
     },
     "execution_count": 7,
     "metadata": {},
     "output_type": "execute_result"
    }
   ],
   "source": [
    "np.random.seed(5)\n",
    "r=np.random.randint(0,4521,40)\n",
    "r"
   ]
  },
  {
   "cell_type": "code",
   "execution_count": 8,
   "id": "b3f767ca",
   "metadata": {},
   "outputs": [
    {
     "data": {
      "text/plain": [
       "(40, 17)"
      ]
     },
     "execution_count": 8,
     "metadata": {},
     "output_type": "execute_result"
    }
   ],
   "source": [
    "df1=df.iloc[r,]\n",
    "df1.shape"
   ]
  },
  {
   "cell_type": "code",
   "execution_count": 9,
   "id": "d9817ccc",
   "metadata": {},
   "outputs": [
    {
     "data": {
      "text/html": [
       "<div>\n",
       "<style scoped>\n",
       "    .dataframe tbody tr th:only-of-type {\n",
       "        vertical-align: middle;\n",
       "    }\n",
       "\n",
       "    .dataframe tbody tr th {\n",
       "        vertical-align: top;\n",
       "    }\n",
       "\n",
       "    .dataframe thead th {\n",
       "        text-align: right;\n",
       "    }\n",
       "</style>\n",
       "<table border=\"1\" class=\"dataframe\">\n",
       "  <thead>\n",
       "    <tr style=\"text-align: right;\">\n",
       "      <th></th>\n",
       "      <th>age</th>\n",
       "      <th>balance</th>\n",
       "      <th>day</th>\n",
       "      <th>duration</th>\n",
       "      <th>campaign</th>\n",
       "      <th>pdays</th>\n",
       "      <th>previous</th>\n",
       "    </tr>\n",
       "  </thead>\n",
       "  <tbody>\n",
       "    <tr>\n",
       "      <th>count</th>\n",
       "      <td>40.000000</td>\n",
       "      <td>40.000000</td>\n",
       "      <td>40.000000</td>\n",
       "      <td>40.000000</td>\n",
       "      <td>40.000000</td>\n",
       "      <td>40.000000</td>\n",
       "      <td>40.000000</td>\n",
       "    </tr>\n",
       "    <tr>\n",
       "      <th>mean</th>\n",
       "      <td>41.700000</td>\n",
       "      <td>976.375000</td>\n",
       "      <td>14.875000</td>\n",
       "      <td>265.450000</td>\n",
       "      <td>2.350000</td>\n",
       "      <td>47.825000</td>\n",
       "      <td>0.425000</td>\n",
       "    </tr>\n",
       "    <tr>\n",
       "      <th>std</th>\n",
       "      <td>10.125368</td>\n",
       "      <td>1712.740879</td>\n",
       "      <td>7.507902</td>\n",
       "      <td>240.060884</td>\n",
       "      <td>1.874936</td>\n",
       "      <td>108.439015</td>\n",
       "      <td>1.034966</td>\n",
       "    </tr>\n",
       "    <tr>\n",
       "      <th>min</th>\n",
       "      <td>20.000000</td>\n",
       "      <td>-932.000000</td>\n",
       "      <td>2.000000</td>\n",
       "      <td>12.000000</td>\n",
       "      <td>1.000000</td>\n",
       "      <td>-1.000000</td>\n",
       "      <td>0.000000</td>\n",
       "    </tr>\n",
       "    <tr>\n",
       "      <th>25%</th>\n",
       "      <td>36.750000</td>\n",
       "      <td>0.000000</td>\n",
       "      <td>8.500000</td>\n",
       "      <td>117.750000</td>\n",
       "      <td>1.000000</td>\n",
       "      <td>-1.000000</td>\n",
       "      <td>0.000000</td>\n",
       "    </tr>\n",
       "    <tr>\n",
       "      <th>50%</th>\n",
       "      <td>42.000000</td>\n",
       "      <td>471.000000</td>\n",
       "      <td>15.000000</td>\n",
       "      <td>181.500000</td>\n",
       "      <td>2.000000</td>\n",
       "      <td>-1.000000</td>\n",
       "      <td>0.000000</td>\n",
       "    </tr>\n",
       "    <tr>\n",
       "      <th>75%</th>\n",
       "      <td>47.000000</td>\n",
       "      <td>1015.500000</td>\n",
       "      <td>19.000000</td>\n",
       "      <td>360.250000</td>\n",
       "      <td>3.000000</td>\n",
       "      <td>-1.000000</td>\n",
       "      <td>0.000000</td>\n",
       "    </tr>\n",
       "    <tr>\n",
       "      <th>max</th>\n",
       "      <td>61.000000</td>\n",
       "      <td>6728.000000</td>\n",
       "      <td>30.000000</td>\n",
       "      <td>1225.000000</td>\n",
       "      <td>9.000000</td>\n",
       "      <td>374.000000</td>\n",
       "      <td>4.000000</td>\n",
       "    </tr>\n",
       "  </tbody>\n",
       "</table>\n",
       "</div>"
      ],
      "text/plain": [
       "             age      balance        day     duration   campaign       pdays  \\\n",
       "count  40.000000    40.000000  40.000000    40.000000  40.000000   40.000000   \n",
       "mean   41.700000   976.375000  14.875000   265.450000   2.350000   47.825000   \n",
       "std    10.125368  1712.740879   7.507902   240.060884   1.874936  108.439015   \n",
       "min    20.000000  -932.000000   2.000000    12.000000   1.000000   -1.000000   \n",
       "25%    36.750000     0.000000   8.500000   117.750000   1.000000   -1.000000   \n",
       "50%    42.000000   471.000000  15.000000   181.500000   2.000000   -1.000000   \n",
       "75%    47.000000  1015.500000  19.000000   360.250000   3.000000   -1.000000   \n",
       "max    61.000000  6728.000000  30.000000  1225.000000   9.000000  374.000000   \n",
       "\n",
       "        previous  \n",
       "count  40.000000  \n",
       "mean    0.425000  \n",
       "std     1.034966  \n",
       "min     0.000000  \n",
       "25%     0.000000  \n",
       "50%     0.000000  \n",
       "75%     0.000000  \n",
       "max     4.000000  "
      ]
     },
     "execution_count": 9,
     "metadata": {},
     "output_type": "execute_result"
    }
   ],
   "source": [
    "df1.describe()"
   ]
  },
  {
   "cell_type": "code",
   "execution_count": 10,
   "id": "cab45e8b",
   "metadata": {},
   "outputs": [
    {
     "data": {
      "text/plain": [
       "1422.6578190665782"
      ]
     },
     "execution_count": 10,
     "metadata": {},
     "output_type": "execute_result"
    }
   ],
   "source": [
    "df['balance'].mean()"
   ]
  },
  {
   "cell_type": "code",
   "execution_count": 11,
   "id": "8ed6d50d",
   "metadata": {},
   "outputs": [
    {
     "data": {
      "text/plain": [
       "(-1.6455378626160297, 0.09985894123756342)"
      ]
     },
     "execution_count": 11,
     "metadata": {},
     "output_type": "execute_result"
    }
   ],
   "source": [
    " weightstats.ztest(df1['balance'],value=1422)"
   ]
  },
  {
   "cell_type": "code",
   "execution_count": 12,
   "id": "57adfbf8",
   "metadata": {},
   "outputs": [
    {
     "name": "stdout",
     "output_type": "stream",
     "text": [
      "accept NULL , sample mean and population mean are same\n"
     ]
    }
   ],
   "source": [
    "if weightstats.ztest(df1['balance'],value=1422)[1]<0.05:\n",
    "    print('reject NULL , sample mean and population mean are not same')\n",
    "else:\n",
    "    print('accept NULL , sample mean and population mean are same')"
   ]
  },
  {
   "cell_type": "code",
   "execution_count": 13,
   "id": "d7e56b4c",
   "metadata": {},
   "outputs": [
    {
     "data": {
      "text/plain": [
       "Ttest_1sampResult(statistic=-1.6455378626160297, pvalue=0.10789596910699248)"
      ]
     },
     "execution_count": 13,
     "metadata": {},
     "output_type": "execute_result"
    }
   ],
   "source": [
    "stats.ttest_1samp(df1['balance'],1422)"
   ]
  },
  {
   "cell_type": "code",
   "execution_count": 14,
   "id": "6ccff77f",
   "metadata": {},
   "outputs": [
    {
     "data": {
      "text/plain": [
       "(2.3533634348018264, 0.10789596910699248)"
      ]
     },
     "execution_count": 14,
     "metadata": {},
     "output_type": "execute_result"
    }
   ],
   "source": [
    "test_statistics_val=stats.ttest_1samp(df1['balance'],1422)[0]\n",
    "p_val=stats.ttest_1samp(df1['balance'],1422)[1]\n",
    "test_critical_val=scipy.stats.t.ppf(q=1-.05,df=3)\n",
    "test_critical_val,p_val"
   ]
  },
  {
   "cell_type": "code",
   "execution_count": 15,
   "id": "7b840e22",
   "metadata": {},
   "outputs": [
    {
     "name": "stdout",
     "output_type": "stream",
     "text": [
      "accept NULL , sample mean and population mean are same\n"
     ]
    }
   ],
   "source": [
    "if test_statistics_val>scipy.stats.t.ppf(q=0.025,df=3) and test_statistics_val<scipy.stats.t.ppf(q=1-0.025,df=3):\n",
    "    print('accept NULL , sample mean and population mean are same')\n",
    "else:\n",
    "    print('reject NULL , sample mean and population mean are not same')"
   ]
  },
  {
   "cell_type": "markdown",
   "id": "eb78bbce",
   "metadata": {},
   "source": [
    "### H0: Average balance of primary education =  Average balance of secondary education\n",
    "### H1: Average balance of primary education !=  Average balance of secondary education"
   ]
  },
  {
   "cell_type": "code",
   "execution_count": 16,
   "id": "2770a788",
   "metadata": {},
   "outputs": [],
   "source": [
    "x1=df[df['education']=='primary']['balance']\n",
    "x2=df[df['education']=='secondary']['balance']"
   ]
  },
  {
   "cell_type": "code",
   "execution_count": 17,
   "id": "1df8c0f9",
   "metadata": {},
   "outputs": [
    {
     "name": "stdout",
     "output_type": "stream",
     "text": [
      "1.7762783701327036 0.07568704651355282\n"
     ]
    },
    {
     "data": {
      "text/plain": [
       "Ttest_indResult(statistic=1.7762783701327036, pvalue=0.0757889865447728)"
      ]
     },
     "execution_count": 17,
     "metadata": {},
     "output_type": "execute_result"
    }
   ],
   "source": [
    "var=weightstats.ztest(x1,x2)\n",
    "print(var[0],var[1])\n",
    "stats.ttest_ind(x1,x2)"
   ]
  },
  {
   "cell_type": "code",
   "execution_count": 18,
   "id": "205107dd",
   "metadata": {},
   "outputs": [
    {
     "name": "stdout",
     "output_type": "stream",
     "text": [
      "Accept H0\n",
      "Average balance of primary education is same as Average balance of secondary education\n"
     ]
    }
   ],
   "source": [
    "if var[1]<0.05:\n",
    "    print('reject H0')\n",
    "    print('Average balance of primary education is not same as Average balance of secondary education')\n",
    "else:\n",
    "    print('Accept H0')\n",
    "    print('Average balance of primary education is same as Average balance of secondary education')"
   ]
  },
  {
   "cell_type": "markdown",
   "id": "b38daebb",
   "metadata": {},
   "source": [
    "### Anova test to compare job wise duration"
   ]
  },
  {
   "cell_type": "code",
   "execution_count": 19,
   "id": "4b7632fb",
   "metadata": {},
   "outputs": [],
   "source": [
    "from statsmodels.stats import oneway as oneway"
   ]
  },
  {
   "cell_type": "code",
   "execution_count": 120,
   "id": "396a0c16",
   "metadata": {
    "scrolled": true
   },
   "outputs": [
    {
     "name": "stdout",
     "output_type": "stream",
     "text": [
      "a1\n",
      "a2\n",
      "a3\n",
      "a4\n",
      "a5\n",
      "a6\n",
      "a7\n",
      "a8\n",
      "a9\n",
      "a10\n",
      "a11\n",
      "a12\n"
     ]
    }
   ],
   "source": [
    "j=0\n",
    "for i in list(df['job'].unique()):\n",
    "    j+=1\n",
    "    name='a'+str(j)\n",
    "    print(name)\n",
    "    globals()[name]=df[df['job']==i]['duration']"
   ]
  },
  {
   "cell_type": "code",
   "execution_count": 121,
   "id": "85144102",
   "metadata": {},
   "outputs": [
    {
     "data": {
      "text/plain": [
       "F_onewayResult(statistic=1.7258910006923238, pvalue=0.06174565640401985)"
      ]
     },
     "execution_count": 121,
     "metadata": {},
     "output_type": "execute_result"
    }
   ],
   "source": [
    "stats.f_oneway(a1,a2,a3,a4,a5,a6,a7,a8,a9,a10,a11,a12)"
   ]
  },
  {
   "cell_type": "code",
   "execution_count": 125,
   "id": "2d6f4169",
   "metadata": {},
   "outputs": [
    {
     "name": "stdout",
     "output_type": "stream",
     "text": [
      "accept null, job wise duration is same\n"
     ]
    }
   ],
   "source": [
    "if 0.06174565640401985<0.05:\n",
    "    print('reject null, job wise duration is not same')\n",
    "else:\n",
    "    print('accept null, job wise duration is same')"
   ]
  },
  {
   "cell_type": "code",
   "execution_count": 123,
   "id": "e9237eb5",
   "metadata": {},
   "outputs": [
    {
     "name": "stdout",
     "output_type": "stream",
     "text": [
      "statistic = 1.7513718028754912\n",
      "pvalue = 0.059081720010465764\n",
      "df = (11.0, 640.1530702343249)\n",
      "df_num = 11.0\n",
      "df_denom = 640.1530702343249\n",
      "nobs_t = 4521.0\n",
      "n_groups = 12\n",
      "means = [301.265625   262.48681055 260.53663571 278.16173362 264.12568306\n",
      " 252.17838542 285.47619048 234.66945607 248.69047619 292.63392857\n",
      " 285.65652174 216.92105263]\n",
      "nobs = [128. 417. 969. 946. 183. 768. 168. 478.  84. 112. 230.  38.]\n",
      "vars_ = [123325.5824311   67598.66869581  64778.60635272  70410.05741244\n",
      "  77382.7038972   60582.72302633  98487.41260336  56109.37478838\n",
      "  43301.66207688  77255.42334299  58812.30508829  40790.72332859]\n",
      "use_var = unequal\n",
      "welch_correction = True\n",
      "tuple = (1.7513718028754912, 0.059081720010465764)\n"
     ]
    }
   ],
   "source": [
    "print(oneway.anova_oneway((a1,a2,a3,a4,a5,a6,a7,a8,a9,a10,a11,a12)))"
   ]
  },
  {
   "cell_type": "code",
   "execution_count": 126,
   "id": "ab07ed13",
   "metadata": {},
   "outputs": [
    {
     "name": "stdout",
     "output_type": "stream",
     "text": [
      "accept null, job wise duration is same\n"
     ]
    }
   ],
   "source": [
    "if 0.0590817200<0.05:\n",
    "    print('reject null, job wise duration is not same')\n",
    "else:\n",
    "    print('accept null, job wise duration is same')"
   ]
  },
  {
   "cell_type": "markdown",
   "id": "2619a4d3",
   "metadata": {},
   "source": [
    "### compare balance of customer having housing as 'yes'  and column - loan as 'yes'"
   ]
  },
  {
   "cell_type": "markdown",
   "id": "b758e45d",
   "metadata": {},
   "source": [
    "#### H0: balance of customer having housing as 'yes' and column - loan as 'yes' is equal\n",
    "#### H1: balance of customer having housing as 'yes' and column - loan as 'yes' is not equal"
   ]
  },
  {
   "cell_type": "code",
   "execution_count": 130,
   "id": "9b9db7e5",
   "metadata": {},
   "outputs": [],
   "source": [
    "m1=df[df['housing']=='yes']['balance']\n",
    "m2=df[df['loan']=='yes']['balance']"
   ]
  },
  {
   "cell_type": "code",
   "execution_count": 131,
   "id": "1d116f22",
   "metadata": {},
   "outputs": [
    {
     "data": {
      "text/plain": [
       "(3.4187618970627045, 0.0006290674709707001)"
      ]
     },
     "execution_count": 131,
     "metadata": {},
     "output_type": "execute_result"
    }
   ],
   "source": [
    "weightstats.ztest(m1,m2)"
   ]
  },
  {
   "cell_type": "code",
   "execution_count": 132,
   "id": "ebe8aa01",
   "metadata": {},
   "outputs": [
    {
     "name": "stdout",
     "output_type": "stream",
     "text": [
      "reject null\n"
     ]
    }
   ],
   "source": [
    "if 0.0006290674<0.05:\n",
    "    print('reject null')\n",
    "else:\n",
    "    print('accept null')"
   ]
  },
  {
   "cell_type": "markdown",
   "id": "4b975ece",
   "metadata": {},
   "source": [
    "balance of customer having housing as 'yes' and column - loan as 'yes' is not equal"
   ]
  }
 ],
 "metadata": {
  "kernelspec": {
   "display_name": "Python 3 (ipykernel)",
   "language": "python",
   "name": "python3"
  },
  "language_info": {
   "codemirror_mode": {
    "name": "ipython",
    "version": 3
   },
   "file_extension": ".py",
   "mimetype": "text/x-python",
   "name": "python",
   "nbconvert_exporter": "python",
   "pygments_lexer": "ipython3",
   "version": "3.8.8"
  }
 },
 "nbformat": 4,
 "nbformat_minor": 5
}
