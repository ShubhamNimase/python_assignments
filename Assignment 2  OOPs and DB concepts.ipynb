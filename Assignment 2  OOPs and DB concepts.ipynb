{
 "cells": [
  {
   "cell_type": "markdown",
   "id": "359b7b6e",
   "metadata": {},
   "source": [
    "# OOPs and DBconcepts  \n",
    "                                                                     by: Nimase Shubham        batch: ML-16"
   ]
  },
  {
   "cell_type": "markdown",
   "id": "40c59951",
   "metadata": {},
   "source": [
    "### ***Performing operations on MYSQL datasets using python. Using OOPs concepts to create class and assigning specific oprations to different user class."
   ]
  },
  {
   "cell_type": "code",
   "execution_count": 222,
   "id": "874f688f",
   "metadata": {},
   "outputs": [],
   "source": [
    "import mysql.connector\n",
    "import sys"
   ]
  },
  {
   "cell_type": "code",
   "execution_count": 2,
   "id": "54c4c1b1",
   "metadata": {},
   "outputs": [],
   "source": [
    "def dev_con():\n",
    "    global conn\n",
    "    global c\n",
    "    conn=mysql.connector.connect(host=\"localhost\",database=\"students\",user=\"root\",passwd=\"Admin@123\")\n",
    "    c=conn.cursor()"
   ]
  },
  {
   "cell_type": "code",
   "execution_count": 3,
   "id": "7bd38682",
   "metadata": {},
   "outputs": [],
   "source": [
    "def dissove_con():\n",
    "    conn.commit()\n",
    "    c.close()\n",
    "    conn.close()"
   ]
  },
  {
   "cell_type": "raw",
   "id": "97d16607",
   "metadata": {},
   "source": [
    "# Creating a table\n",
    "# before creating table we need to create schema on MYSQL using ##\"CREATE SCHEMA students;\"## command or manually in sql\n",
    "# Without creating schema you can not connect to MYSQL database.\n",
    "# Using following code we can create table named \"stdid\"\n",
    "\n",
    "stm=\"\"\"CREATE TABLE students.stdid (id INT NOT NULL AUTO_INCREMENT, Roll INT NOT NULL,\n",
    "        subject VARCHAR(45) NOT NULL, marks FLOAT NOT NULL, Total_marks DOUBLE NOT NULL,\n",
    "        name VARCHAR(45) NULL DEFAULT NULL,per FLOAT NULL DEFAULT NULL,PRIMARY KEY (id),\n",
    "        UNIQUE INDEX id_UNIQUE (id ASC) VISIBLE);\"\"\"\n",
    "dev_con()\n",
    "c.execute(stm)\n",
    "dissove_con()"
   ]
  },
  {
   "cell_type": "code",
   "execution_count": 7,
   "id": "df8eaa30",
   "metadata": {},
   "outputs": [],
   "source": [
    "#defining functions to validate the marks,name and subjct name entered in the data\n",
    "def validate_marks_obtained(marks_obtained, total_marks):\n",
    "   \n",
    "    return 0 <= marks_obtained <= total_marks\n",
    "\n",
    "def val_subname(name):\n",
    "    try:\n",
    "        if name.isalpha():\n",
    "            print(\"ok\")\n",
    "            flag=0\n",
    "            messege=\"\"\n",
    "        else:\n",
    "            flag=1\n",
    "            raise Exception(\"Only letters are allowed in name\")\n",
    "    except:\n",
    "        messege= sys.exc_info()[1]\n",
    "        print(sys.exc_info()[1])\n",
    "    return flag, messege"
   ]
  },
  {
   "cell_type": "code",
   "execution_count": 416,
   "id": "ffbc3b30",
   "metadata": {},
   "outputs": [],
   "source": [
    "class Teacher():\n",
    "# entry of the marks in the dataset\n",
    "    def entry_of_data(self):\n",
    "        roll_number=int(input(\"enter roll number \"))\n",
    "        subject=int(input(\"Enter number of subjects \"))\n",
    "        name=input('Enter student name : ')\n",
    "        val_subname(name)\n",
    "        stmt=\"\"\n",
    "        for i in range(subject):\n",
    "            sub=input(\"enter subject name \")\n",
    "            val_subname(sub)\n",
    "            out_of=float(input(\"enter out of marks \"))\n",
    "            marks=float(input(\"enter marks obtained \"))\n",
    "            while not validate_marks_obtained(marks,out_of):\n",
    "                print(\"Invalid marks obtained. Please enter a value between 0 and the total marks.\")\n",
    "                marks = float(input(f\"Enter the marks obtained: \"))\n",
    "                out_of= float(input(f\"Enter the total marks : \"))\n",
    "\n",
    "            per=(marks/out_of)*100\n",
    "\n",
    "            stmt=\"insert into stdid(Roll,subject,Total_marks,marks,per,name)values\"\n",
    "            stmt=stmt+\"({},'{}',{},{},{},'{}')\".format(roll_number,sub,out_of,marks,per,name)\n",
    "            print(stmt)\n",
    "\n",
    "            dev_con()\n",
    "            c.execute(stmt)\n",
    "            dissove_con()\n",
    "\n",
    "#Updating marks for specific roll number and subject\n",
    "    def update(self):\n",
    "        roll=input(\"enter roll number :\")\n",
    "        sub=input(\"enter subject :\")\n",
    "        marks=input(\"enter new marks :\")\n",
    "        dev_con()\n",
    "        stmt=\"update stdid set marks={} where Roll= {} and subject='{}'\".format(marks,roll,sub)\n",
    "        c.execute(stmt)\n",
    "        dissove_con()\n",
    "        print(\"Updated successfully\")\n",
    "        \n",
    "#Getting scores of particular student      \n",
    "    def view_score(self):\n",
    "        roll=input(\"enter roll number \")\n",
    "        dev_con()\n",
    "        stmt=\"Select subject,marks,Total_marks,per,name from stdid where Roll= {}\".format(roll)\n",
    "        c.execute(stmt)\n",
    "        rec=c.fetchall()\n",
    "        c.close()\n",
    "        print(\"Data for {} is :\".format(rec[0][4]))\n",
    "        print(\"{:10s} {:^10} {:>5}\".format('Subject','Marks','Out of'))\n",
    "        p=[]\n",
    "        for i in rec:\n",
    "            print(\"{:10s}  {:7.2f}  {:^10}\".format(i[0],i[1],i[2]))\n",
    "            p.append(i[3])\n",
    "        percentage=sum(p)/len(p)\n",
    "        print(\"\\nYou scored {:^5.2f} % in exams !!!\".format(percentage))\n",
    "\n",
    "# display the whole table \n",
    "    def view_all(self):\n",
    "        dev_con()\n",
    "        s=\"select * from stdid;\"\n",
    "        c.execute(s)\n",
    "        r=c.fetchall()\n",
    "        c.close()\n",
    "        print(\"{:^5} {:^5} {:^10s} {:^10} {:10} {:^10} {:>10}\".format('id','Roll','subject','marks','Total_marks','name','per'))\n",
    "        for i in r:\n",
    "            print(\"{:^5}{:^7}{:10s}{:10.2f}{:>10.2f}{:^20}{:^5.2f}\".format(i[0],i[1],i[2],i[3],i[4],i[5],i[6]))\n"
   ]
  },
  {
   "cell_type": "code",
   "execution_count": 417,
   "id": "b79cbfd9",
   "metadata": {},
   "outputs": [],
   "source": [
    "anil=Teacher()"
   ]
  },
  {
   "cell_type": "code",
   "execution_count": 245,
   "id": "5a4d8ada",
   "metadata": {},
   "outputs": [
    {
     "name": "stdout",
     "output_type": "stream",
     "text": [
      "enter roll number 4\n",
      "Enter number of subjects 2\n",
      "Enter student name : Akshay\n",
      "ok\n",
      "enter subject name Marathi\n",
      "ok\n",
      "enter out of marks 100\n",
      "enter marks obtained 80\n",
      "insert into stdid(Roll,subject,Total_marks,marks,per,name)values(4,'Marathi',100.0,80.0,80.0,'Akshay')\n",
      "enter subject name Hindi\n",
      "ok\n",
      "enter out of marks 100\n",
      "enter marks obtained 75\n",
      "insert into stdid(Roll,subject,Total_marks,marks,per,name)values(4,'Hindi',100.0,75.0,75.0,'Akshay')\n"
     ]
    }
   ],
   "source": [
    "anil.entry_of_data()"
   ]
  },
  {
   "cell_type": "code",
   "execution_count": 246,
   "id": "cc409da7",
   "metadata": {},
   "outputs": [
    {
     "name": "stdout",
     "output_type": "stream",
     "text": [
      "enter roll number :4\n",
      "enter subject :hindi\n",
      "enter new marks :73\n",
      "Updated successfully\n"
     ]
    }
   ],
   "source": [
    "anil.update()"
   ]
  },
  {
   "cell_type": "code",
   "execution_count": 247,
   "id": "c7b16c93",
   "metadata": {
    "scrolled": true
   },
   "outputs": [
    {
     "name": "stdout",
     "output_type": "stream",
     "text": [
      "enter roll number 4\n",
      "Data for Akshay is :\n",
      "Subject      Marks    Out of\n",
      "Marathi       80.00    100.0   \n",
      "Hindi         73.00    100.0   \n",
      "\n",
      "You scored 77.50 % in exams !!!\n"
     ]
    }
   ],
   "source": [
    "anil.view_score()"
   ]
  },
  {
   "cell_type": "code",
   "execution_count": 418,
   "id": "4eba54aa",
   "metadata": {},
   "outputs": [
    {
     "name": "stdout",
     "output_type": "stream",
     "text": [
      " id   Roll   subject     marks    Total_marks    name           per\n",
      "  1     1   math           75.00     80.00        raj         93.75\n",
      "  2     1   physics        85.00    100.00        raj         85.00\n",
      "  3     2   physics        45.00     50.00      shubham       90.00\n",
      "  4     2   bio            48.00     50.00      shubham       96.00\n",
      "  5     3   chemistry      75.00     80.00       suraj        93.75\n",
      "  6     3   physics        69.00     80.00       suraj        86.25\n",
      "  7     3   math           81.00    100.00       suraj        85.00\n",
      "  8     4   Marathi        80.00    100.00       Akshay       80.00\n",
      "  9     4   Hindi          73.00    100.00       Akshay       75.00\n"
     ]
    }
   ],
   "source": [
    "anil.view_all()"
   ]
  },
  {
   "cell_type": "code",
   "execution_count": 419,
   "id": "5d81ac19",
   "metadata": {},
   "outputs": [],
   "source": [
    "class student:\n",
    "    def view(self):\n",
    "        name=input(\"enter your name :\")\n",
    "        roll=input(\"Enter your roll number :\")\n",
    "        stmt=\"Select subject,marks,Total_marks,per,name from stdid where name='{}' and Roll={} \".format(name,roll)\n",
    "        dev_con()\n",
    "        c.execute(stmt)\n",
    "        rc=c.fetchall()\n",
    "        try:\n",
    "            if len(rc)!=0:\n",
    "                c.close()\n",
    "                print(\"Login successfull !!!\")\n",
    "                print(\"\\nData for {} is :\".format(rc[0][4]))\n",
    "                print(\"{:10s} {:^10} {:>5}\".format('Subject','Marks','Out of'))\n",
    "                p=[]\n",
    "                for i in rc:\n",
    "                    print(\"{:10s}  {:7.2f}  {:^10}\".format(i[0],i[1],i[2]))\n",
    "                    p.append(i[3])\n",
    "                percentage=sum(p)/len(p)\n",
    "                print(\"\\nYou scored {:^5.2f} % in exams !!!\".format(percentage))  \n",
    "            else:\n",
    "                raise Exception(\"Invalid login!! Name and roll number combination doesn't exist\")\n",
    "        except:\n",
    "            print(sys.exc_info()[1])\n",
    "        "
   ]
  },
  {
   "cell_type": "code",
   "execution_count": 420,
   "id": "ad766d2d",
   "metadata": {},
   "outputs": [],
   "source": [
    "user=student()"
   ]
  },
  {
   "cell_type": "code",
   "execution_count": 421,
   "id": "a5942d76",
   "metadata": {},
   "outputs": [
    {
     "name": "stdout",
     "output_type": "stream",
     "text": [
      "enter your name :suraj\n",
      "Enter your roll number :2\n",
      "Invalid login!! Name and roll number combination doesn't exist\n"
     ]
    }
   ],
   "source": [
    "user.view()"
   ]
  },
  {
   "cell_type": "code",
   "execution_count": 422,
   "id": "1c9557bb",
   "metadata": {},
   "outputs": [
    {
     "name": "stdout",
     "output_type": "stream",
     "text": [
      "enter your name :shubham\n",
      "Enter your roll number :2\n",
      "Login successfull !!!\n",
      "\n",
      "Data for shubham is :\n",
      "Subject      Marks    Out of\n",
      "physics       45.00     50.0   \n",
      "bio           48.00     50.0   \n",
      "\n",
      "You scored 93.00 % in exams !!!\n"
     ]
    }
   ],
   "source": [
    "user.view()"
   ]
  },
  {
   "cell_type": "code",
   "execution_count": null,
   "id": "72867d5c",
   "metadata": {},
   "outputs": [],
   "source": []
  }
 ],
 "metadata": {
  "kernelspec": {
   "display_name": "Python 3 (ipykernel)",
   "language": "python",
   "name": "python3"
  },
  "language_info": {
   "codemirror_mode": {
    "name": "ipython",
    "version": 3
   },
   "file_extension": ".py",
   "mimetype": "text/x-python",
   "name": "python",
   "nbconvert_exporter": "python",
   "pygments_lexer": "ipython3",
   "version": "3.8.8"
  }
 },
 "nbformat": 4,
 "nbformat_minor": 5
}
