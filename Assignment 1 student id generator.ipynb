{
 "cells": [
  {
   "cell_type": "markdown",
   "id": "0d8546e7",
   "metadata": {},
   "source": [
    "# Student id generation and percentage calculation \n",
    "## Note:- This program will take input of number of subjects, marks obtained in that subject ,total marks for that subject , mobile number and name as input from the student . Then it will calculate percentages for that student and  assign the roll number for him and then print the output on the text file present on the given path."
   ]
  },
  {
   "cell_type": "markdown",
   "id": "be8e8a46",
   "metadata": {},
   "source": [
    "## Execution: \n",
    "### This will ask for marks and mobile number again and again until valid entry is made . \n",
    "### Operation will be terminated if invaid \"name\" and \"subject name\" is entered. \n",
    "### By default data will be written on studentid.txt file on the \"E\" drive of your computer."
   ]
  },
  {
   "cell_type": "code",
   "execution_count": 1,
   "id": "02685dc0",
   "metadata": {},
   "outputs": [],
   "source": [
    "import re\n",
    "import sys\n",
    "a=[]\n"
   ]
  },
  {
   "cell_type": "code",
   "execution_count": 2,
   "id": "2daa6e27",
   "metadata": {},
   "outputs": [],
   "source": [
    "#Validation of mobile number\n",
    "def validate_mobile_number(mobile_number):\n",
    "    pattern = r\"^[0-9]{10}$\"\n",
    "    while not  (re.match(pattern, mobile_number)):\n",
    "        print(\"Invalid mobile number. Please enter a 10-digit mobile number.\")\n",
    "        mobile_number = input(\"Enter your 10-digit mobile number: \")"
   ]
  },
  {
   "cell_type": "code",
   "execution_count": 3,
   "id": "867df678",
   "metadata": {},
   "outputs": [],
   "source": [
    "#validating the marks \n",
    "def validate_marks_obtained(marks_obtained, total_marks):\n",
    "    try:\n",
    "        if marks_obtained.isdigit and total_marks.isdigit: \n",
    "            if (0 <= float(marks_obtained) <= float(total_marks)) :\n",
    "                return marks_obtained,total_marks\n",
    "            else:\n",
    "                raise Exception(\"marks obtained should be less than total marks\")\n",
    "        else:\n",
    "            raise Exception(\"Marks should be numarical only\")\n",
    "    except:\n",
    "        print(\"Error :\" ,sys.exc_info()[1])  "
   ]
  },
  {
   "cell_type": "code",
   "execution_count": 4,
   "id": "f1dcca7d",
   "metadata": {},
   "outputs": [],
   "source": [
    "#validating name and subject name\n",
    "def val_name(name):\n",
    "    global flag\n",
    "    flag=0\n",
    "    try:\n",
    "        if name.isalpha():\n",
    "            print(\"ok\")\n",
    "            flag=1\n",
    "        else:\n",
    "            flag=0\n",
    "            raise Exception(\"Only letters are allowed in name\")\n",
    "    except:\n",
    "        print(sys.exc_info()[1])"
   ]
  },
  {
   "cell_type": "code",
   "execution_count": 5,
   "id": "3e0fff14",
   "metadata": {},
   "outputs": [],
   "source": [
    "#Generating a roll number for student\n",
    "def get_roll_number():\n",
    "    \n",
    "    roll_number = len(a)+1\n",
    "    a.append(roll_number)\n",
    "    return roll_number\n"
   ]
  },
  {
   "cell_type": "code",
   "execution_count": 6,
   "id": "0e596dc1",
   "metadata": {},
   "outputs": [],
   "source": [
    "#Creating a function to get student data\n",
    "def get_student_data():\n",
    "\n",
    "    num_subjects = int(input(\"Enter the number of subjects: \"))\n",
    "\n",
    "    subject_names = []\n",
    "    mot = []\n",
    "    tot = []\n",
    "    marks=[]\n",
    "\n",
    "    for i in range(num_subjects):\n",
    "        subject_name = input(f\"Enter the name of subject {i+1}: \")\n",
    "        val_name(subject_name)\n",
    "        if not flag==1:\n",
    "            subject_name = input(f\"Enter the name of subject {i+1}: \")\n",
    "        subject_names.append(subject_name)\n",
    "\n",
    "        marks_obtained_i = (input(f\"Enter the marks obtained in {subject_name} : \"))\n",
    "        total_marks_i = (input(f\"Enter the total marks for {subject_name} : \"))\n",
    "        \n",
    "\n",
    "        while not validate_marks_obtained(marks_obtained_i, total_marks_i):\n",
    "            print(\"Invalid marks obtained. Please enter a value between 0 and the total marks.\")\n",
    "            marks_obtained_i = (input(f\"Enter the marks obtained in {subject_name} : \"))\n",
    "            total_marks_i = (input(f\"Enter the total marks for {subject_name} : \"))\n",
    "\n",
    "        mot.append(float(marks_obtained_i))\n",
    "        tot.append(float(total_marks_i))\n",
    "        \n",
    "        marks.append(marks_obtained_i+\"/\"+total_marks_i)\n",
    "        \n",
    "    prct=(sum(mot)/sum(tot))*100\n",
    "\n",
    "    mobile_number = input(\"Enter your 10-digit mobile number: \")\n",
    "    validate_mobile_number(mobile_number)\n",
    "   \n",
    "    name=input(\"enter your name \")\n",
    "    val_name(name)\n",
    "    return {\n",
    "        \"student name   \": r\"{:>10s}\".format(name),\n",
    "        \"subject_names  \": subject_names,\n",
    "        \"marks          \": marks, \n",
    "        \"percentage     \": r\"{:10.2f}%\".format(prct),\n",
    "        \"mobile_number  \": mobile_number,     \n",
    "    }"
   ]
  },
  {
   "cell_type": "code",
   "execution_count": 7,
   "id": "da171ac8",
   "metadata": {},
   "outputs": [],
   "source": [
    "#function to write data to text file\n",
    "def write_student_data_to_file(student_data, roll_number):\n",
    "   \n",
    "    with open(\"E:\\\\studentid.txt\", \"a\") as f:\n",
    "        f.write(f\"Roll Number: {roll_number}\\n\")\n",
    "        for key, value in student_data.items():\n",
    "            f.write(f\"{key}: {value}\\n\")\n",
    "        f.write(\"\\n\")"
   ]
  },
  {
   "cell_type": "code",
   "execution_count": 8,
   "id": "efb84392",
   "metadata": {
    "scrolled": true
   },
   "outputs": [],
   "source": [
    "def main():\n",
    "    student_data = get_student_data()\n",
    "    roll_number = get_roll_number()\n",
    "    if flag==1:\n",
    "        write_student_data_to_file(student_data, roll_number)\n",
    "        print(\"Student data written to file.\")\n",
    "    else:\n",
    "        print(\"Data is not written to file due to invalid information\")\n"
   ]
  },
  {
   "cell_type": "code",
   "execution_count": 9,
   "id": "87b04e19",
   "metadata": {},
   "outputs": [
    {
     "name": "stdout",
     "output_type": "stream",
     "text": [
      "Enter the number of subjects: 2\n",
      "Enter the name of subject 1: Mathematics\n",
      "ok\n",
      "Enter the marks obtained in Mathematics : 78\n",
      "Enter the total marks for Mathematics : 100\n",
      "Enter the name of subject 2: Physics\n",
      "ok\n",
      "Enter the marks obtained in Physics : 88\n",
      "Enter the total marks for Physics : 100\n",
      "Enter your 10-digit mobile number: 9999999999\n",
      "enter your name Shubham\n",
      "ok\n",
      "Student data written to file.\n"
     ]
    }
   ],
   "source": [
    "main()"
   ]
  },
  {
   "cell_type": "code",
   "execution_count": 11,
   "id": "eee6d321",
   "metadata": {},
   "outputs": [
    {
     "name": "stdout",
     "output_type": "stream",
     "text": [
      "Roll Number: 1\n",
      "\n",
      "student name   :    Shubham\n",
      "\n",
      "subject_names  : ['Mathematics', 'Physics']\n",
      "\n",
      "marks          : ['78/100', '88/100']\n",
      "\n",
      "percentage     :      83.00%\n",
      "\n",
      "mobile_number  : 9999999999\n",
      "\n",
      "\n",
      "\n"
     ]
    }
   ],
   "source": [
    "#sample output\n",
    "file=open(\"E:\\\\studentid.txt\", \"r\")\n",
    "for i in file:\n",
    "    print(i)\n",
    "file.close()"
   ]
  },
  {
   "cell_type": "code",
   "execution_count": null,
   "id": "78b0f3d9",
   "metadata": {},
   "outputs": [],
   "source": []
  }
 ],
 "metadata": {
  "kernelspec": {
   "display_name": "Python 3 (ipykernel)",
   "language": "python",
   "name": "python3"
  },
  "language_info": {
   "codemirror_mode": {
    "name": "ipython",
    "version": 3
   },
   "file_extension": ".py",
   "mimetype": "text/x-python",
   "name": "python",
   "nbconvert_exporter": "python",
   "pygments_lexer": "ipython3",
   "version": "3.8.8"
  }
 },
 "nbformat": 4,
 "nbformat_minor": 5
}
